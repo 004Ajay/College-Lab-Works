{
 "cells": [
  {
   "cell_type": "code",
   "execution_count": 1,
   "id": "0d653f91",
   "metadata": {},
   "outputs": [],
   "source": [
    "import pandas as pd"
   ]
  },
  {
   "cell_type": "code",
   "execution_count": 4,
   "id": "837fd469",
   "metadata": {},
   "outputs": [],
   "source": [
    "df = pd.read_csv('post_code.csv')"
   ]
  },
  {
   "cell_type": "code",
   "execution_count": 5,
   "id": "e4f19c15",
   "metadata": {},
   "outputs": [
    {
     "name": "stdout",
     "output_type": "stream",
     "text": [
      "<class 'pandas.core.frame.DataFrame'>\n",
      "RangeIndex: 154797 entries, 0 to 154796\n",
      "Data columns (total 15 columns):\n",
      " #   Column              Non-Null Count   Dtype  \n",
      "---  ------              --------------   -----  \n",
      " 0   officename          154797 non-null  object \n",
      " 1   pincode             154797 non-null  int64  \n",
      " 2   officeType          154797 non-null  object \n",
      " 3   Deliverystatus      154797 non-null  object \n",
      " 4   divisionname        154797 non-null  object \n",
      " 5   regionname          154797 non-null  object \n",
      " 6   circlename          154797 non-null  object \n",
      " 7   Taluk               146488 non-null  object \n",
      " 8   Districtname        154761 non-null  object \n",
      " 9   statename           154761 non-null  object \n",
      " 10  Telephone           23418 non-null   object \n",
      " 11  Related Suboffice   125269 non-null  object \n",
      " 12  Related Headoffice  153987 non-null  object \n",
      " 13  longitude           142 non-null     float64\n",
      " 14  latitude            142 non-null     float64\n",
      "dtypes: float64(2), int64(1), object(12)\n",
      "memory usage: 17.7+ MB\n"
     ]
    }
   ],
   "source": [
    "df.info()"
   ]
  },
  {
   "cell_type": "code",
   "execution_count": null,
   "id": "04a2dfaa",
   "metadata": {},
   "outputs": [],
   "source": []
  }
 ],
 "metadata": {
  "kernelspec": {
   "display_name": "Python 3 (ipykernel)",
   "language": "python",
   "name": "python3"
  },
  "language_info": {
   "codemirror_mode": {
    "name": "ipython",
    "version": 3
   },
   "file_extension": ".py",
   "mimetype": "text/x-python",
   "name": "python",
   "nbconvert_exporter": "python",
   "pygments_lexer": "ipython3",
   "version": "3.10.5"
  }
 },
 "nbformat": 4,
 "nbformat_minor": 5
}
