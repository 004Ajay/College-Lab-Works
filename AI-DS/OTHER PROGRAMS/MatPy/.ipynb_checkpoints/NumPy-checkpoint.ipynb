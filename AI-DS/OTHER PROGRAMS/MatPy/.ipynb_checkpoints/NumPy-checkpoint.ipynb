{
 "cells": [
  {
   "cell_type": "markdown",
   "id": "4f175d69",
   "metadata": {},
   "source": [
    "## NumPy Library Basics"
   ]
  },
  {
   "cell_type": "code",
   "execution_count": 1,
   "id": "87226744",
   "metadata": {},
   "outputs": [],
   "source": [
    "import numpy as np\n",
    "from numpy import random"
   ]
  },
  {
   "cell_type": "markdown",
   "id": "2e6cc088",
   "metadata": {},
   "source": [
    "### Making Arrays and getting their details"
   ]
  },
  {
   "cell_type": "code",
   "execution_count": 2,
   "id": "4d295cf5",
   "metadata": {},
   "outputs": [
    {
     "name": "stdout",
     "output_type": "stream",
     "text": [
      "One Dimensional Array:\n",
      "\n",
      "[1 2]\n",
      "\n",
      "Type: <class 'numpy.ndarray'>\n",
      "\n",
      "No of Dimensions: 1\n"
     ]
    }
   ],
   "source": [
    "one_d_arr = np.array([1, 2])\n",
    "\n",
    "print(f\"One Dimensional Array:\\n\\n{one_d_arr}\\n\\nType: {type(one_d_arr)}\\n\\nNo of Dimensions: {np.ndim(one_d_arr)}\")"
   ]
  },
  {
   "cell_type": "code",
   "execution_count": 3,
   "id": "f402bdf5",
   "metadata": {},
   "outputs": [
    {
     "name": "stdout",
     "output_type": "stream",
     "text": [
      "Two Dimensional Array:\n",
      "\n",
      "[[1 2]\n",
      " [3 4]]\n",
      "\n",
      "Type: <class 'numpy.ndarray'>\n",
      "\n",
      "No of Dimensions: 2\n"
     ]
    }
   ],
   "source": [
    "two_d_arr = np.array([[1, 2], [3, 4]])\n",
    "\n",
    "print(f\"Two Dimensional Array:\\n\\n{two_d_arr}\\n\\nType: {type(two_d_arr)}\\n\\nNo of Dimensions: {np.ndim(two_d_arr)}\")"
   ]
  },
  {
   "cell_type": "code",
   "execution_count": 4,
   "id": "d63d21fa",
   "metadata": {},
   "outputs": [
    {
     "name": "stdout",
     "output_type": "stream",
     "text": [
      "Three Dimensional Array:\n",
      "\n",
      "[[[ 1  2  3]\n",
      "  [ 4  5  6]\n",
      "  [ 7  8  9]]\n",
      "\n",
      " [[10 11 12]\n",
      "  [13 14 15]\n",
      "  [16 17 18]]]\n",
      "\n",
      "Type: <class 'numpy.ndarray'>\n",
      "\n",
      "No of Dimensions: 3\n"
     ]
    }
   ],
   "source": [
    "three_d_arr = np.array([[[1, 2, 3], [4, 5, 6], [7, 8, 9]], [[10, 11, 12], [13, 14, 15], [16, 17, 18]]])\n",
    "\n",
    "print(f\"Three Dimensional Array:\\n\\n{three_d_arr}\\n\\nType: {type(three_d_arr)}\\n\\nNo of Dimensions: {np.ndim(three_d_arr)}\")"
   ]
  },
  {
   "cell_type": "markdown",
   "id": "224535ac",
   "metadata": {},
   "source": [
    "### Accessing Array Elements"
   ]
  },
  {
   "cell_type": "code",
   "execution_count": 5,
   "id": "612d4716",
   "metadata": {},
   "outputs": [
    {
     "name": "stdout",
     "output_type": "stream",
     "text": [
      "Array: [1 3 2 5 7]\n",
      "Array's 2nd element: 3\n",
      "Array's last element: 7\n"
     ]
    }
   ],
   "source": [
    "arr = np.array([1,3,2,5,7])\n",
    "\n",
    "print(f\"Array: {arr}\\nArray's 2nd element: {arr[1]}\\nArray's last element: {arr[len(arr)-1]}\")"
   ]
  },
  {
   "cell_type": "code",
   "execution_count": 6,
   "id": "a9a60519",
   "metadata": {},
   "outputs": [
    {
     "name": "stdout",
     "output_type": "stream",
     "text": [
      "Array:\n",
      "\n",
      "[[1 2 3]\n",
      " [6 7 8]]\n",
      "\n",
      "Getting element '8' i.e mat[1][2] or mat[1, 2]: 8\n"
     ]
    }
   ],
   "source": [
    "mat = np.array([[1,2,3],[6,7,8]])\n",
    "\n",
    "print(f\"Array:\\n\\n{mat}\\n\\nGetting element '8' i.e mat[1][2] or mat[1, 2]: {mat[1, 2]}\")"
   ]
  },
  {
   "cell_type": "code",
   "execution_count": 7,
   "id": "877faaf5",
   "metadata": {},
   "outputs": [
    {
     "name": "stdout",
     "output_type": "stream",
     "text": [
      "Array:\n",
      "\n",
      "[[[ 1  2  3]\n",
      "  [ 4  5  6]]\n",
      "\n",
      " [[ 7  8  9]\n",
      "  [10 11 12]]]\n",
      "\n",
      "Getting element '6': 6\n"
     ]
    }
   ],
   "source": [
    "arra = np.array([[[1, 2, 3], [4, 5, 6]], [[7, 8, 9], [10, 11, 12]]])\n",
    "\n",
    "print(f\"Array:\\n\\n{arra}\\n\\nGetting element '6': {arra[0, 1, 2]}\")"
   ]
  },
  {
   "cell_type": "code",
   "execution_count": 8,
   "id": "eabb3758",
   "metadata": {},
   "outputs": [
    {
     "name": "stdout",
     "output_type": "stream",
     "text": [
      "Array: [1 2 3 4]\n",
      "\n",
      "Array Data Type: int32\n"
     ]
    }
   ],
   "source": [
    "array = np.array([1,2,3,4], dtype = 'i4')\n",
    "\n",
    "print(f\"Array: {array}\\n\\nArray Data Type: {arr.dtype}\")"
   ]
  },
  {
   "cell_type": "code",
   "execution_count": 9,
   "id": "8e056ff5",
   "metadata": {},
   "outputs": [
    {
     "name": "stdout",
     "output_type": "stream",
     "text": [
      "Array:\n",
      "\n",
      "[1 2 3]\n",
      "[4 5 6]\n"
     ]
    }
   ],
   "source": [
    "arr_sample = np.array([[1,2,3], [4,5,6]])\n",
    "\n",
    "print(\"Array:\\n\")\n",
    "for i in arr_sample:\n",
    "    print(i)"
   ]
  },
  {
   "cell_type": "code",
   "execution_count": 10,
   "id": "546c1a7e",
   "metadata": {},
   "outputs": [
    {
     "name": "stdout",
     "output_type": "stream",
     "text": [
      "Array:\n",
      "[[1 2 3]\n",
      " [4 5 6]]\n",
      "\n",
      "Array elements:\n",
      "\n",
      "1\n",
      "2\n",
      "3\n",
      "4\n",
      "5\n",
      "6\n"
     ]
    }
   ],
   "source": [
    "arr_sample = np.array([[1,2,3], [4,5,6]])\n",
    "\n",
    "print(f\"Array:\\n{arr_sample}\\n\\nArray elements:\\n\")\n",
    "for i in arr_sample:\n",
    "    for j in i:\n",
    "        print(j)"
   ]
  },
  {
   "cell_type": "code",
   "execution_count": 11,
   "id": "2ba235f2",
   "metadata": {},
   "outputs": [
    {
     "name": "stdout",
     "output_type": "stream",
     "text": [
      "Array:\n",
      "[[ 1  2  3]\n",
      " [ 4  5  6]\n",
      " [ 7  8  9]\n",
      " [10 11 12]]\n",
      "\n",
      "Array elements:\n",
      "\n",
      "1\n",
      "2\n",
      "3\n",
      "4\n",
      "5\n",
      "6\n",
      "7\n",
      "8\n",
      "9\n",
      "10\n",
      "11\n",
      "12\n"
     ]
    }
   ],
   "source": [
    "arra_sample = np.array([[1,2,3], [4,5,6], [7,8,9],[10,11,12]])\n",
    "\n",
    "print(f\"Array:\\n{arra_sample}\\n\\nArray elements:\\n\")\n",
    "for i in np.nditer(arra_sample):\n",
    "    print(i)"
   ]
  },
  {
   "cell_type": "markdown",
   "id": "d4437c8f",
   "metadata": {},
   "source": [
    "### Array Slicing"
   ]
  },
  {
   "cell_type": "code",
   "execution_count": 12,
   "id": "29ee6936",
   "metadata": {},
   "outputs": [
    {
     "name": "stdout",
     "output_type": "stream",
     "text": [
      "Array: [1 2 3 4 5 6 7]\n",
      "\n",
      "Sliced from 2 to 5: [2 3 4 5]\n",
      "\n",
      "Slicing from 5 to end: [5 6 7]\n"
     ]
    }
   ],
   "source": [
    "one = np.array([1,2,3,4,5,6,7])\n",
    "\n",
    "print(f\"Array: {one}\\n\\nSliced from 2 to 5: {one[1:5]}\\n\\nSlicing from 5 to end: {one[4:]}\")"
   ]
  },
  {
   "cell_type": "code",
   "execution_count": 13,
   "id": "49c42ae5",
   "metadata": {},
   "outputs": [
    {
     "name": "stdout",
     "output_type": "stream",
     "text": [
      "Array:\n",
      "\n",
      "[[1 2 3]\n",
      " [4 5 6]]\n",
      "\n",
      "Slicing 1st row last two elements: [5 6]\n"
     ]
    }
   ],
   "source": [
    "two = np.array([[1,2,3],[4,5,6]])\n",
    "\n",
    "print(f\"Array:\\n\\n{two}\\n\\nSlicing 1st row last two elements: {two[1, 1:3]}\")"
   ]
  },
  {
   "cell_type": "markdown",
   "id": "b11ddf0e",
   "metadata": {},
   "source": [
    "### Making Copy & View of an array"
   ]
  },
  {
   "cell_type": "code",
   "execution_count": 14,
   "id": "57663158",
   "metadata": {},
   "outputs": [
    {
     "name": "stdout",
     "output_type": "stream",
     "text": [
      "Array:\n",
      "\n",
      "[1 2 3 4 5 6]\n",
      "\n",
      "Array Copy:\n",
      "\n",
      "[1 2 3 4 5 6]\n",
      "\n",
      "Array View:\n",
      "\n",
      "[1 2 3 4 5 6]\n"
     ]
    }
   ],
   "source": [
    "three = np.array([1, 2, 3, 4, 5, 6])\n",
    "\n",
    "three_copy = three.copy() # Doesn't change if original array values are changed\n",
    "\n",
    "three_view = three.view() # Do change if original array values are changed\n",
    "\n",
    "print(f\"Array:\\n\\n{three}\\n\\nArray Copy:\\n\\n{three_copy}\\n\\nArray View:\\n\\n{three_view}\")"
   ]
  },
  {
   "cell_type": "markdown",
   "id": "cb2c21f1",
   "metadata": {},
   "source": [
    "### Array Shaping & Reshaping"
   ]
  },
  {
   "cell_type": "code",
   "execution_count": 15,
   "id": "846c3085",
   "metadata": {},
   "outputs": [
    {
     "name": "stdout",
     "output_type": "stream",
     "text": [
      "Shaping: (2, 4)\n"
     ]
    }
   ],
   "source": [
    "four = np.array([[1, 2, 3, 4], [5, 6, 7, 8]])\n",
    "\n",
    "print(f\"Shaping: {four.shape}\")"
   ]
  },
  {
   "cell_type": "code",
   "execution_count": 16,
   "id": "6f8e9b62",
   "metadata": {},
   "outputs": [
    {
     "name": "stdout",
     "output_type": "stream",
     "text": [
      "Array:\n",
      "\n",
      "[[ 1  2  3  4  5  6  7  8  9 10 11 12]]\n",
      "\n",
      "Reshaping to multi-dimension:\n",
      "\n",
      " [[ 1  2  3]\n",
      " [ 4  5  6]\n",
      " [ 7  8  9]\n",
      " [10 11 12]]\n"
     ]
    }
   ],
   "source": [
    "five = np.array([[1,2,3,4,5,6,7,8,9,10,11,12]])\n",
    "\n",
    "print(f\"Array:\\n\\n{five}\\n\\nReshaping to multi-dimension:\\n\\n {five.reshape(4,3)}\")"
   ]
  },
  {
   "cell_type": "code",
   "execution_count": 17,
   "id": "119c2d8d",
   "metadata": {},
   "outputs": [
    {
     "name": "stdout",
     "output_type": "stream",
     "text": [
      "Array:\n",
      "\n",
      "[[1 2 3]\n",
      " [4 5 6]]\n",
      "\n",
      "Reshaping to one dimension: [1 2 3 4 5 6]\n"
     ]
    }
   ],
   "source": [
    "six = np.array([[1,2,3],[4,5,6]])\n",
    "\n",
    "print(f\"Array:\\n\\n{six}\\n\\nReshaping to one dimension: {six.reshape(-1)}\")"
   ]
  },
  {
   "cell_type": "markdown",
   "id": "26631cd8",
   "metadata": {},
   "source": [
    "### Finding Location of element"
   ]
  },
  {
   "cell_type": "code",
   "execution_count": 18,
   "id": "451ae814",
   "metadata": {},
   "outputs": [
    {
     "name": "stdout",
     "output_type": "stream",
     "text": [
      "Array:\n",
      "[2 3 4 5 4 3 4]\n",
      "\n",
      "Location of '4': (array([2, 4, 6], dtype=int64),)\n"
     ]
    }
   ],
   "source": [
    "seven = np.array([2,3,4,5,4,3,4])\n",
    "\n",
    "print(f\"Array:\\n{seven}\\n\\nLocation of '4': {np.where(seven == 4)}\")"
   ]
  },
  {
   "cell_type": "markdown",
   "id": "08fd37ce",
   "metadata": {},
   "source": [
    "### Sorting Array"
   ]
  },
  {
   "cell_type": "code",
   "execution_count": 19,
   "id": "ac5d654d",
   "metadata": {},
   "outputs": [
    {
     "name": "stdout",
     "output_type": "stream",
     "text": [
      "Array: [4 3 9 5 6 1 8]\n",
      "\n",
      "Sorted number array: [1 3 4 5 6 8 9]\n",
      "\n",
      "Word Array: ['zach' 'ajay' 'joel']\n",
      "\n",
      "Sorted word array: ['ajay' 'joel' 'zach']\n"
     ]
    }
   ],
   "source": [
    "eight = np.array([4,3,9,5,6,1,8])\n",
    "nine = np.array(['zach', 'ajay', 'joel'])\n",
    "\n",
    "print(f\"Array: {eight}\\n\\nSorted number array: {np.sort(eight)}\")\n",
    "print(f\"\\nWord Array: {nine}\\n\\nSorted word array: {np.sort(nine)}\")"
   ]
  },
  {
   "cell_type": "code",
   "execution_count": 20,
   "id": "0a62459c",
   "metadata": {},
   "outputs": [
    {
     "name": "stdout",
     "output_type": "stream",
     "text": [
      "Array:\n",
      "\n",
      "[[3 2 4]\n",
      " [6 7 1]]\n",
      "\n",
      "Row-wise sorted array:\n",
      "\n",
      "[[2 3 4]\n",
      " [1 6 7]]\n"
     ]
    }
   ],
   "source": [
    "ten = np.array([[3,2,4], [6,7,1]])\n",
    "\n",
    "print(f\"Array:\\n\\n{ten}\\n\\nRow-wise sorted array:\\n\\n{np.sort(ten)}\")"
   ]
  },
  {
   "cell_type": "markdown",
   "id": "7757a417",
   "metadata": {},
   "source": [
    "### Generating Random Array"
   ]
  },
  {
   "cell_type": "code",
   "execution_count": 21,
   "id": "eb81e2a0",
   "metadata": {},
   "outputs": [
    {
     "name": "stdout",
     "output_type": "stream",
     "text": [
      "[[29 99 96 26 52]\n",
      " [71 99 16 96 75]\n",
      " [68 94 79 62 44]]\n"
     ]
    }
   ],
   "source": [
    "# Random from numpy is used here\n",
    "\n",
    "print(random.randint(100, size=(3,5)))"
   ]
  },
  {
   "cell_type": "code",
   "execution_count": 22,
   "id": "0211a831",
   "metadata": {},
   "outputs": [
    {
     "name": "stdout",
     "output_type": "stream",
     "text": [
      "[1 1 8 8 1 1 5 3 3 3]\n"
     ]
    }
   ],
   "source": [
    "print(random.choice([3,5,1,8], p=[0.1, 0.3, 0.4, 0.2], size=(10)))"
   ]
  },
  {
   "cell_type": "markdown",
   "id": "e2f3402a",
   "metadata": {},
   "source": [
    "### Saving & Loading Arrays"
   ]
  },
  {
   "cell_type": "code",
   "execution_count": 23,
   "id": "6230eb8c",
   "metadata": {},
   "outputs": [
    {
     "name": "stdout",
     "output_type": "stream",
     "text": [
      "[0 1 2 3 4 5 6 7 8 9]\n"
     ]
    }
   ],
   "source": [
    "eleven = np.arange(10)\n",
    "print(eleven)\n",
    "\n",
    "np.save('test_arr_save', eleven)"
   ]
  },
  {
   "cell_type": "code",
   "execution_count": 24,
   "id": "c6e2bbf1",
   "metadata": {},
   "outputs": [
    {
     "name": "stdout",
     "output_type": "stream",
     "text": [
      "[0 1 2 3 4 5 6 7 8 9]\n"
     ]
    }
   ],
   "source": [
    "twelve = np.load('test_arr_save.npy')\n",
    "print(twelve)"
   ]
  },
  {
   "cell_type": "code",
   "execution_count": 25,
   "id": "24f86b80",
   "metadata": {},
   "outputs": [
    {
     "name": "stdout",
     "output_type": "stream",
     "text": [
      "[ 0  1  2  3  4  5  6  7  8  9 10 11 12 13 14 15 16 17 18 19 20 21 22 23\n",
      " 24]\n",
      "[0 1 2 3 4]\n"
     ]
    }
   ],
   "source": [
    "thirteen = np.arange(25)\n",
    "fourteen = np.arange(5)\n",
    "\n",
    "np.savez('new_test', x=thirteen, y=fourteen)\n",
    "\n",
    "load_npz = np.load('new_test.npz')\n",
    "\n",
    "print(load_npz['x'])\n",
    "print(load_npz['y'])"
   ]
  },
  {
   "cell_type": "markdown",
   "id": "f923f3f6",
   "metadata": {},
   "source": [
    "## --------------------------------------------------------------  _END_  ---------------------------------------------------------------"
   ]
  }
 ],
 "metadata": {
  "kernelspec": {
   "display_name": "Python 3 (ipykernel)",
   "language": "python",
   "name": "python3"
  },
  "language_info": {
   "codemirror_mode": {
    "name": "ipython",
    "version": 3
   },
   "file_extension": ".py",
   "mimetype": "text/x-python",
   "name": "python",
   "nbconvert_exporter": "python",
   "pygments_lexer": "ipython3",
   "version": "3.10.5"
  }
 },
 "nbformat": 4,
 "nbformat_minor": 5
}
