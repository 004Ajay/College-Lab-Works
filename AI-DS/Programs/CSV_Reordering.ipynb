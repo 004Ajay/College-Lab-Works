{
 "cells": [
  {
   "cell_type": "code",
   "execution_count": 3,
   "id": "5b8a6a67",
   "metadata": {},
   "outputs": [
    {
     "name": "stdout",
     "output_type": "stream",
     "text": [
      "Before sorting:\n",
      " values\n",
      "      2\n",
      "     20\n",
      "      1\n",
      "     16\n",
      "     14\n",
      "      6\n",
      "     11\n",
      "     18\n",
      "     15\n",
      "      6\n",
      "\n",
      "After sorting: [1, 2, 6, 6, 11, 14, 15, 16, 18, 20]\n"
     ]
    }
   ],
   "source": [
    "import pandas as pd\n",
    "\n",
    "df = pd.read_csv('Datasets\\CSV_Reordering_Book.csv', header = 0)\n",
    "\n",
    "col = df['values']\n",
    "\n",
    "print(f\"Before sorting:\\n{df.to_string(index=False)}\\n\\nAfter sorting: {sorted(col)}\")"
   ]
  },
  {
   "cell_type": "code",
   "execution_count": null,
   "id": "091395c9",
   "metadata": {},
   "outputs": [],
   "source": []
  }
 ],
 "metadata": {
  "kernelspec": {
   "display_name": "Python 3 (ipykernel)",
   "language": "python",
   "name": "python3"
  },
  "language_info": {
   "codemirror_mode": {
    "name": "ipython",
    "version": 3
   },
   "file_extension": ".py",
   "mimetype": "text/x-python",
   "name": "python",
   "nbconvert_exporter": "python",
   "pygments_lexer": "ipython3",
   "version": "3.10.11"
  }
 },
 "nbformat": 4,
 "nbformat_minor": 5
}
