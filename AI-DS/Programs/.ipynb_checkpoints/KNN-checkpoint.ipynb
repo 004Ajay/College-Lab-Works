{
 "cells": [
  {
   "cell_type": "code",
   "execution_count": 1,
   "id": "cdc1825c",
   "metadata": {},
   "outputs": [],
   "source": [
    "from sklearn.neighbors import KNeighborsClassifier\n",
    "from sklearn.model_selection import train_test_split\n",
    "from sklearn.datasets import load_iris\n",
    "from sklearn.metrics import confusion_matrix\n",
    "import matplotlib.pyplot as plt\n",
    "import seaborn as sns"
   ]
  },
  {
   "cell_type": "code",
   "execution_count": 2,
   "id": "a3e23666",
   "metadata": {},
   "outputs": [],
   "source": [
    "# Loading data\n",
    "irisData = load_iris()\n",
    " \n",
    "# Create feature and target arrays\n",
    "X = irisData.data\n",
    "y = irisData.target\n",
    "\n",
    "X_train, X_test, y_train, y_test = train_test_split(X, y, test_size = 0.2, random_state=42)"
   ]
  },
  {
   "cell_type": "code",
   "execution_count": 3,
   "id": "dd1e29df",
   "metadata": {},
   "outputs": [
    {
     "name": "stdout",
     "output_type": "stream",
     "text": [
      "Enter the k value: 7\n"
     ]
    }
   ],
   "source": [
    "k_val = int(input(\"Enter the k value: \")  )\n",
    "knn = KNeighborsClassifier(n_neighbors=k_val).fit(X_train, y_train)"
   ]
  },
  {
   "cell_type": "code",
   "execution_count": 4,
   "id": "ccd854b9",
   "metadata": {},
   "outputs": [
    {
     "name": "stdout",
     "output_type": "stream",
     "text": [
      "\n",
      "Predictions:  [1 0 2 1 1 0 1 2 2 1 2 0 0 0 0 1 2 1 1 2 0 2 0 2 2 2 2 2 0 0]\n",
      "\n",
      "Prediction Accuracy: 96.67 %\n"
     ]
    }
   ],
   "source": [
    "acc = knn.score(X_test, y_test)\n",
    "pred = knn.predict(X_test)\n",
    "print(\"\\nPredictions: \", pred) # Prediction on unseen dataset\n",
    "print(\"\\nPrediction Accuracy:\",round(acc*100, 2),'%')"
   ]
  },
  {
   "cell_type": "code",
   "execution_count": 5,
   "id": "7db3c9a3",
   "metadata": {},
   "outputs": [
    {
     "name": "stdout",
     "output_type": "stream",
     "text": [
      "\n",
      "Confussion Matrix:\n",
      " [[10  0  0]\n",
      " [ 0  8  1]\n",
      " [ 0  0 11]]\n"
     ]
    }
   ],
   "source": [
    "y_pred = pred\n",
    "cm = confusion_matrix(y_test, y_pred)\n",
    "print(\"\\nConfussion Matrix:\\n\",cm)"
   ]
  },
  {
   "cell_type": "code",
   "execution_count": 6,
   "id": "cd930fd4",
   "metadata": {},
   "outputs": [
    {
     "name": "stdout",
     "output_type": "stream",
     "text": [
      "\n",
      "Wrong predictions:  1\n"
     ]
    }
   ],
   "source": [
    "total_sum = cm.sum() # sum of all elements in conf mat\n",
    "diag_ele_sum = cm.trace() # sum of diagonal elements in conf mat\n",
    "wrong_preds = total_sum - diag_ele_sum # calculating number of wrong predictions\n",
    "print(\"\\nAll predictions are correct\") if wrong_preds == 0 else print(\"\\nWrong predictions: \", wrong_preds)"
   ]
  },
  {
   "cell_type": "code",
   "execution_count": 7,
   "id": "0a75e096",
   "metadata": {},
   "outputs": [
    {
     "data": {
      "image/png": "[encoded data removed]",
      "text/plain": [
       "<Figure size 500x300 with 2 Axes>"
      ]
     },
     "metadata": {},
     "output_type": "display_data"
    }
   ],
   "source": [
    "plt.figure(figsize=(5,3))\n",
    "sns.heatmap(cm, annot=True)\n",
    "plt.xlabel('Predicted')\n",
    "plt.ylabel('Truth')\n",
    "plt.show()"
   ]
  }
 ],
 "metadata": {
  "kernelspec": {
   "display_name": "Python 3 (ipykernel)",
   "language": "python",
   "name": "python3"
  },
  "language_info": {
   "codemirror_mode": {
    "name": "ipython",
    "version": 3
   },
   "file_extension": ".py",
   "mimetype": "text/x-python",
   "name": "python",
   "nbconvert_exporter": "python",
   "pygments_lexer": "ipython3",
   "version": "3.10.11"
  }
 },
 "nbformat": 4,
 "nbformat_minor": 5
}
