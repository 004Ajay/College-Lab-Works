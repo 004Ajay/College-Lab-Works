{
 "cells": [
  {
   "cell_type": "markdown",
   "metadata": {
    "id": "3XCY_Cusctoy"
   },
   "source": [
    "Implement a feed forward neural network with three hidden layers for the CIFAR-10 dataset.Train the network using a baseline optimization algorithm, such as stochastic gradient descent (SGD) or Adam, without any specific weight initialization technique or regularization technique. Record the accuracy and loss during training.\n",
    "\n",
    "(a) Repeat the training process with Xavier initialization for weight initialization. Compare the convergence speed and accuracy of the network with the baseline results. Analyze the impact of Xavier initialization on the network's performance.\n",
    "\n",
    "(b) Repeat the training process with Kaiming initialization for weight initialization. Compare the convergence speed and accuracy of the network with the baseline results. Analyze the impact of Kaiming initialization on the network's performance.\n",
    "\n",
    "(c) Implement dropout regularization by applying dropout to the hidden layers of the network. Train the network with dropout regularization and compare its performance with the baseline results. Analyze the impact of dropout on the network's performance in terms of accuracy and overfitting\n",
    "\n",
    "(d) Implement L1 or L2 regularization techniques by adding a regularization term to the loss function during training. Train the network with regularization and compare its performance with the baseline results. Analyze the impact of regularization on the network's performance in terms of accuracy and prevention of overfitting."
   ]
  },
  {
   "cell_type": "markdown",
   "metadata": {
    "id": "SwJ5QygOWdbb"
   },
   "source": [
    "# BASE MODEL"
   ]
  },
  {
   "cell_type": "code",
   "execution_count": 1,
   "metadata": {
    "id": "H88uTkg4cuWg"
   },
   "outputs": [],
   "source": [
    "import tensorflow as tf\n",
    "from tensorflow.keras import layers, models, regularizers\n",
    "from tensorflow.keras.datasets import cifar10\n",
    "from tensorflow.keras.utils import to_categorical\n",
    "import numpy as np\n",
    "import time"
   ]
  },
  {
   "cell_type": "code",
   "execution_count": 2,
   "metadata": {
    "colab": {
     "base_uri": "https://localhost:8080/"
    },
    "id": "7Mk628dncv-d",
    "outputId": "08c94ca2-c601-48b7-e250-90b8977957a8"
   },
   "outputs": [],
   "source": [
    "(x_train, y_train), (x_test, y_test) = cifar10.load_data()\n",
    "x_train, x_test = x_train / 255.0, x_test / 255.0\n",
    "y_train, y_test = to_categorical(y_train), to_categorical(y_test) # Convert labels to one-hot encoding"
   ]
  },
  {
   "cell_type": "code",
   "execution_count": 3,
   "metadata": {
    "colab": {
     "base_uri": "https://localhost:8080/"
    },
    "id": "dHJ1_7TGcv24",
    "outputId": "d5b9f32b-afe8-4cb3-c485-619df74ad0ab"
   },
   "outputs": [
    {
     "name": "stdout",
     "output_type": "stream",
     "text": [
      "Epoch 1/5\n",
      "782/782 [==============================] - 11s 12ms/step - loss: 1.8735 - accuracy: 0.3209 - val_loss: 1.7488 - val_accuracy: 0.3789\n",
      "Epoch 2/5\n",
      "782/782 [==============================] - 8s 11ms/step - loss: 1.6902 - accuracy: 0.3891 - val_loss: 1.6526 - val_accuracy: 0.4119\n",
      "Epoch 3/5\n",
      "782/782 [==============================] - 8s 11ms/step - loss: 1.6038 - accuracy: 0.4251 - val_loss: 1.6066 - val_accuracy: 0.4229\n",
      "Epoch 4/5\n",
      "782/782 [==============================] - 8s 11ms/step - loss: 1.5516 - accuracy: 0.4471 - val_loss: 1.5462 - val_accuracy: 0.4506\n",
      "Epoch 5/5\n",
      "782/782 [==============================] - 8s 11ms/step - loss: 1.5030 - accuracy: 0.4634 - val_loss: 1.5168 - val_accuracy: 0.4530\n",
      "- -- -- -- -- -- -- -- -- -- -- -- -- -- -- -- -- -- -- -- -- -- -- -- -- -- -- -- -- -- -- -- -- -- -- -- -- -- -- -- -\n",
      "313/313 [==============================] - 1s 3ms/step - loss: 1.5168 - accuracy: 0.4530\n",
      "Base Model Results:\n",
      "\n",
      "Test Loss: 1.5168\n",
      "Test Accuracy: 45.3%\n",
      "Time Taken: 44.28 seconds\n"
     ]
    }
   ],
   "source": [
    "base_model = models.Sequential([\n",
    "    layers.Flatten(input_shape=(32, 32, 3)),\n",
    "    layers.Dense(256, activation='relu'),\n",
    "    layers.Dense(128, activation='relu'),\n",
    "    layers.Dense(64, activation='relu'),\n",
    "    layers.Dense(10, activation='softmax')\n",
    "])\n",
    "\n",
    "base_model.compile(optimizer='adam', loss='categorical_crossentropy', metrics=['accuracy'])\n",
    "\n",
    "st = time.time()\n",
    "base_model_history = base_model.fit(x_train, y_train, epochs=5, batch_size=64, validation_data=(x_test, y_test))\n",
    "sp = time.time()\n",
    "\n",
    "print(\"- -\" * 40)\n",
    "\n",
    "base_test_loss, base_test_acc = base_model.evaluate(x_test, y_test)\n",
    "base_time_taken = round(sp-st, 2)\n",
    "print(f\"Base Model Results:\\n\\nTest Loss: {round(base_test_loss, 4)}\\nTest Accuracy: {round(base_test_acc * 100, 2)}%\\nTime Taken: {base_time_taken} seconds\")"
   ]
  },
  {
   "cell_type": "markdown",
   "metadata": {
    "id": "4FxiUSmRWoO8"
   },
   "source": [
    "# MODELS WITH KERNEL INITIALIZERS\n",
    "Xavier & Kaiming Weight Initializers"
   ]
  },
  {
   "cell_type": "code",
   "execution_count": 4,
   "metadata": {
    "id": "yXujnk22cv5h"
   },
   "outputs": [],
   "source": [
    "def create_model(initializer=None):\n",
    "    model_with_kernel = models.Sequential([\n",
    "        layers.Flatten(input_shape=(32, 32, 3)),\n",
    "        layers.Dense(256, activation='relu', kernel_initializer=initializer),\n",
    "        layers.Dense(128, activation='relu', kernel_initializer=initializer),\n",
    "        layers.Dense(64, activation='relu', kernel_initializer=initializer),\n",
    "        layers.Dense(10, activation='softmax')\n",
    "    ])\n",
    "    return model_with_kernel"
   ]
  },
  {
   "cell_type": "code",
   "execution_count": 5,
   "metadata": {
    "colab": {
     "base_uri": "https://localhost:8080/"
    },
    "id": "4WGlCAwkcv8A",
    "outputId": "a2e9da38-9310-416e-d3a2-8dbd0c096476"
   },
   "outputs": [
    {
     "name": "stdout",
     "output_type": "stream",
     "text": [
      "Epoch 1/5\n",
      "1563/1563 [==============================] - 8s 5ms/step - loss: 1.8967 - accuracy: 0.3164\n",
      "Epoch 2/5\n",
      "1563/1563 [==============================] - 7s 4ms/step - loss: 1.7073 - accuracy: 0.3883\n",
      "Epoch 3/5\n",
      "1563/1563 [==============================] - 7s 5ms/step - loss: 1.6206 - accuracy: 0.4240\n",
      "Epoch 4/5\n",
      "1563/1563 [==============================] - 7s 5ms/step - loss: 1.5630 - accuracy: 0.4432\n",
      "Epoch 5/5\n",
      "1563/1563 [==============================] - 7s 5ms/step - loss: 1.5169 - accuracy: 0.4601\n",
      "313/313 [==============================] - 1s 3ms/step - loss: 1.7241 - accuracy: 0.4025\n",
      "Training with initializer: glorot_uniform\n",
      "\n",
      "\n",
      "Test Accuracy (using 'glorot_uniform' weight initialization): 40.25%\n",
      "\n",
      "Time Taken: 38.01 seconds\n",
      "\n",
      "- -- -- -- -- -- -- -- -- -- -- -- -- -- -- -- -- -- -- -- -- -- -- -- -- -- -- -- -- -- -- -- -- -- -- -- -- -- -- -- -\n",
      "Epoch 1/5\n",
      "1563/1563 [==============================] - 8s 5ms/step - loss: 1.8771 - accuracy: 0.3225\n",
      "Epoch 2/5\n",
      "1563/1563 [==============================] - 7s 5ms/step - loss: 1.6890 - accuracy: 0.3979\n",
      "Epoch 3/5\n",
      "1563/1563 [==============================] - 7s 4ms/step - loss: 1.6102 - accuracy: 0.4240\n",
      "Epoch 4/5\n",
      "1563/1563 [==============================] - 7s 5ms/step - loss: 1.5517 - accuracy: 0.4443\n",
      "Epoch 5/5\n",
      "1563/1563 [==============================] - 7s 4ms/step - loss: 1.5082 - accuracy: 0.4614\n",
      "313/313 [==============================] - 1s 3ms/step - loss: 1.5100 - accuracy: 0.4579\n",
      "Training with initializer: he_normal\n",
      "\n",
      "\n",
      "Test Accuracy (using 'he_normal' weight initialization): 45.79%\n",
      "\n",
      "Time Taken: 36.12 seconds\n",
      "\n",
      "- -- -- -- -- -- -- -- -- -- -- -- -- -- -- -- -- -- -- -- -- -- -- -- -- -- -- -- -- -- -- -- -- -- -- -- -- -- -- -- -\n",
      "Baseline Results Comparison:\n",
      "\n",
      "Accuracy comparison:\n",
      "glorot_uniform: 1.13% accurate than base model\n",
      "he_normal: 1% accurate than base model\n",
      "\n",
      "Time comparison:\n",
      "glorot_uniform: 1.165 seconds faster than base model\n",
      "he_normal: 1.226 seconds faster than base model\n"
     ]
    }
   ],
   "source": [
    "res = []\n",
    "\n",
    "# glorot_uniform - Xavier Weight Initializer, he_normal - Kaiming Weight Initializer\n",
    "weight_initializers = ['glorot_uniform', 'he_normal']\n",
    "\n",
    "for init in weight_initializers:\n",
    "    model = create_model(initializer=init)\n",
    "    model.compile(optimizer='sgd',  loss='categorical_crossentropy', metrics=['accuracy'])\n",
    "\n",
    "    wei_st = time.time()\n",
    "    model.fit(x_train, y_train, epochs=5)\n",
    "    wei_sp = time.time()\n",
    "\n",
    "    test_loss, test_accuracy = model.evaluate(x_test, y_test)\n",
    "\n",
    "    time_taken = wei_sp - wei_st\n",
    "    res.append((time_taken, test_accuracy))\n",
    "\n",
    "    print(\"- -\" * 40)\n",
    "\n",
    "    print(f\"Training with initializer: {init}\\n\")\n",
    "    print(f\"\\nTest Accuracy (using '{init}' weight initialization): {round(test_accuracy * 100, 2)}%\\n\\nTime Taken: {round(time_taken, 2)} seconds\\n\")\n",
    "\n",
    "    print(\"- -\" * 40)\n",
    "\n",
    "# Comparison with baseline results\n",
    "base_glorot_acc = round(base_test_acc / res[0][1], 2)\n",
    "base_glorot_time = round(base_time_taken / res[0][0], 3)\n",
    "base_he_acc = round(base_test_acc / res[1][1])\n",
    "base_he_time = round(base_time_taken / res[1][0], 3)\n",
    "\n",
    "print(f\"Baseline Results Comparison:\\n\\nAccuracy comparison:\\n{weight_initializers[0]}: {base_glorot_acc}% accurate than base model\\n{weight_initializers[1]}: {base_he_acc}% accurate than base model\")\n",
    "print(f\"\\nTime comparison:\\n{weight_initializers[0]}: {base_glorot_time} seconds faster than base model\\n{weight_initializers[1]}: {base_he_time} seconds faster than base model\")"
   ]
  },
  {
   "cell_type": "markdown",
   "metadata": {
    "id": "asMDtAVXWxSD"
   },
   "source": [
    "# MODEL WITH DROPOUT LAYER\n",
    "Dropout Rate - 0.2"
   ]
  },
  {
   "cell_type": "code",
   "execution_count": 6,
   "metadata": {
    "colab": {
     "base_uri": "https://localhost:8080/"
    },
    "id": "QqL21X7Dl5kP",
    "outputId": "bb37afa1-9b9b-45ff-f0e8-511436303760"
   },
   "outputs": [
    {
     "name": "stdout",
     "output_type": "stream",
     "text": [
      "Epoch 1/5\n",
      "1563/1563 [==============================] - 8s 5ms/step - loss: 2.0559 - accuracy: 0.2447\n",
      "Epoch 2/5\n",
      "1563/1563 [==============================] - 8s 5ms/step - loss: 1.8754 - accuracy: 0.3246\n",
      "Epoch 3/5\n",
      "1563/1563 [==============================] - 7s 5ms/step - loss: 1.8042 - accuracy: 0.3503\n",
      "Epoch 4/5\n",
      "1563/1563 [==============================] - 7s 5ms/step - loss: 1.7585 - accuracy: 0.3709\n",
      "Epoch 5/5\n",
      "1563/1563 [==============================] - 7s 5ms/step - loss: 1.7223 - accuracy: 0.3859\n",
      "313/313 [==============================] - 1s 3ms/step - loss: 1.6366 - accuracy: 0.4134\n",
      "- -- -- -- -- -- -- -- -- -- -- -- -- -- -- -- -- -- -- -- -- -- -- -- -- -- -- -- -- -- -- -- -- -- -- -- -- -- -- -- -\n",
      "Dropout Layer Results:\n",
      "\n",
      "\n",
      "Test Accuracy: 41.34%\n",
      "Baseline Results Comparison:\n",
      "Accuracy: 1.1% faster than base model\n"
     ]
    }
   ],
   "source": [
    "model_with_dropout = models.Sequential([\n",
    "      layers.Flatten(input_shape=(32, 32, 3)),\n",
    "      layers.Dense(256, activation='relu'),\n",
    "      layers.Dropout(0.2),\n",
    "      layers.Dense(128, activation='relu'),\n",
    "      layers.Dropout(0.2),\n",
    "      layers.Dense(64, activation='relu'),\n",
    "      layers.Dropout(0.2),\n",
    "      layers.Dense(10, activation='softmax')\n",
    "  ])\n",
    "\n",
    "# Load and preprocess CIFAR-10 dataset\n",
    "(x_train, y_train), (x_test, y_test) = cifar10.load_data()\n",
    "x_train, x_test = x_train / 255.0, x_test / 255.0\n",
    "\n",
    "\n",
    "model_with_dropout.compile(optimizer='sgd', loss='sparse_categorical_crossentropy', metrics=['accuracy'])\n",
    "model_with_dropout.fit(x_train, y_train, epochs=5)\n",
    "\n",
    "dropout_test_loss, dropout_test_accuracy = model_with_dropout.evaluate(x_test, y_test)\n",
    "\n",
    "print(\"- -\" * 40)\n",
    "\n",
    "# Comparison with baseline results\n",
    "base_dropout_acc = round(base_test_acc / dropout_test_accuracy , 2)\n",
    "\n",
    "print(\"Dropout Layer Results:\\n\")\n",
    "print(f\"\\nTest Accuracy: {round(dropout_test_accuracy * 100, 4)}%\")\n",
    "print(f\"Baseline Results Comparison:\\nAccuracy: {base_dropout_acc}% faster than base model\")"
   ]
  },
  {
   "cell_type": "markdown",
   "metadata": {
    "id": "ogCt5dAzW4E8"
   },
   "source": [
    "# MODEL WITH KERNEL REGULARIZER\n",
    "L2 Kernel Regularizer"
   ]
  },
  {
   "cell_type": "code",
   "execution_count": 7,
   "metadata": {
    "colab": {
     "base_uri": "https://localhost:8080/"
    },
    "id": "FM9euD5DNPSk",
    "outputId": "2ffb6b1e-5e77-47a7-92c3-3cd29ded4670"
   },
   "outputs": [
    {
     "name": "stdout",
     "output_type": "stream",
     "text": [
      "Epoch 1/5\n",
      "1563/1563 [==============================] - 8s 5ms/step - loss: 7.3598 - accuracy: 0.3066\n",
      "Epoch 2/5\n",
      "1563/1563 [==============================] - 8s 5ms/step - loss: 4.7534 - accuracy: 0.3682\n",
      "Epoch 3/5\n",
      "1563/1563 [==============================] - 8s 5ms/step - loss: 3.3996 - accuracy: 0.3890\n",
      "Epoch 4/5\n",
      "1563/1563 [==============================] - 8s 5ms/step - loss: 2.6734 - accuracy: 0.3963\n",
      "Epoch 5/5\n",
      "1563/1563 [==============================] - 8s 5ms/step - loss: 2.2809 - accuracy: 0.4059\n",
      "313/313 [==============================] - 1s 3ms/step - loss: 2.2554 - accuracy: 0.3762\n",
      "- -- -- -- -- -- -- -- -- -- -- -- -- -- -- -- -- -- -- -- -- -- -- -- -- -- -- -- -- -- -- -- -- -- -- -- -- -- -- -- -\n",
      "L2 Regularizer Results:\n",
      "\n",
      "\n",
      "Test Accuracy : 37.62%\n",
      "Baseline Results Comparison:\n",
      "Accuracy: 1.2% faster than base model\n"
     ]
    }
   ],
   "source": [
    "model_with_reg = models.Sequential([\n",
    "    layers.Flatten(input_shape=(32, 32, 3)),\n",
    "    layers.Dense(256, activation='relu', kernel_regularizer=regularizers.l2(0.01)),\n",
    "    layers.Dense(128, activation='relu', kernel_regularizer=regularizers.l2(0.01)),\n",
    "    layers.Dense(64, activation='relu', kernel_regularizer=regularizers.l2(0.01)),\n",
    "    layers.Dense(10, activation='softmax')\n",
    "])\n",
    "\n",
    "(x_train, y_train), (x_test, y_test) = cifar10.load_data()\n",
    "x_train, x_test = x_train / 255.0, x_test / 255.0\n",
    "\n",
    "model_with_reg.compile(optimizer='sgd', loss='sparse_categorical_crossentropy', metrics=['accuracy'])\n",
    "model_with_reg.fit(x_train, y_train, epochs=5)\n",
    "\n",
    "reg_test_loss, reg_test_accuracy = model_with_reg.evaluate(x_test, y_test)\n",
    "\n",
    "print(\"- -\" * 40)\n",
    "\n",
    "# Comparison with baseline results\n",
    "base_reg_acc = round(base_test_acc / reg_test_accuracy , 2)\n",
    "\n",
    "print(\"L2 Regularizer Results:\\n\")\n",
    "print(f\"\\nTest Accuracy : {round(reg_test_accuracy * 100, 4)}%\")\n",
    "print(f\"Baseline Results Comparison:\\nAccuracy: {base_reg_acc}% faster than base model\")"
   ]
  },
  {
   "cell_type": "code",
   "execution_count": null,
   "metadata": {
    "id": "0bvYJFpsioXA"
   },
   "outputs": [],
   "source": []
  }
 ],
 "metadata": {
  "accelerator": "GPU",
  "colab": {
   "gpuType": "T4",
   "provenance": []
  },
  "kernelspec": {
   "display_name": "Python 3 (ipykernel)",
   "language": "python",
   "name": "python3"
  },
  "language_info": {
   "codemirror_mode": {
    "name": "ipython",
    "version": 3
   },
   "file_extension": ".py",
   "mimetype": "text/x-python",
   "name": "python",
   "nbconvert_exporter": "python",
   "pygments_lexer": "ipython3",
   "version": "3.10.11"
  }
 },
 "nbformat": 4,
 "nbformat_minor": 1
}
