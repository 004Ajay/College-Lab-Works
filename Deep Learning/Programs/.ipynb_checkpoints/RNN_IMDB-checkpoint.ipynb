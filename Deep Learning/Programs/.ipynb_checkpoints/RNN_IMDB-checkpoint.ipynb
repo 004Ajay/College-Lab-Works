{
 "cells": [
  {
   "cell_type": "markdown",
   "metadata": {
    "id": "IDCVr-zKpHVw"
   },
   "source": [
    "Implement a Recurrent Neural Network (RNN) for review classification on the IMDB dataset. Design and train an RNN model to classify movie reviews as positive or negative based on their sentiment."
   ]
  },
  {
   "cell_type": "code",
   "execution_count": 1,
   "metadata": {
    "executionInfo": {
     "elapsed": 4248,
     "status": "ok",
     "timestamp": 1692462661579,
     "user": {
      "displayName": "04_AD_Ajay T Shaju",
      "userId": "03382747360939787422"
     },
     "user_tz": -330
    },
    "id": "zC9HqiREpFLc"
   },
   "outputs": [],
   "source": [
    "import numpy as np\n",
    "import tensorflow as tf\n",
    "from tensorflow.keras.datasets import imdb\n",
    "from tensorflow.keras.preprocessing.sequence import pad_sequences\n",
    "from tensorflow.keras.models import Sequential\n",
    "from tensorflow.keras.layers import Embedding, LSTM, Dense"
   ]
  },
  {
   "cell_type": "code",
   "execution_count": 2,
   "metadata": {
    "executionInfo": {
     "elapsed": 5904,
     "status": "ok",
     "timestamp": 1692462667475,
     "user": {
      "displayName": "04_AD_Ajay T Shaju",
      "userId": "03382747360939787422"
     },
     "user_tz": -330
    },
    "id": "C5FkSDEbpR5b"
   },
   "outputs": [],
   "source": [
    "num_words = 10000\n",
    "max_length = 200\n",
    "(X_train, y_train), (X_test, y_test) = imdb.load_data(num_words=num_words)\n",
    "X_train = pad_sequences(X_train, maxlen=max_length)\n",
    "X_test = pad_sequences(X_test, maxlen=max_length)"
   ]
  },
  {
   "cell_type": "code",
   "execution_count": 3,
   "metadata": {
    "executionInfo": {
     "elapsed": 1842,
     "status": "ok",
     "timestamp": 1692462669310,
     "user": {
      "displayName": "04_AD_Ajay T Shaju",
      "userId": "03382747360939787422"
     },
     "user_tz": -330
    },
    "id": "-J01GQH7pR3J"
   },
   "outputs": [],
   "source": [
    "model = Sequential()\n",
    "model.add(Embedding(input_dim=num_words, output_dim=128, input_length=max_length))\n",
    "model.add(LSTM(128))\n",
    "model.add(Dense(1, activation='sigmoid'))"
   ]
  },
  {
   "cell_type": "code",
   "execution_count": 4,
   "metadata": {
    "colab": {
     "base_uri": "https://localhost:8080/"
    },
    "executionInfo": {
     "elapsed": 144099,
     "status": "ok",
     "timestamp": 1692462813402,
     "user": {
      "displayName": "04_AD_Ajay T Shaju",
      "userId": "03382747360939787422"
     },
     "user_tz": -330
    },
    "id": "vajb659YpRWo",
    "outputId": "cd296440-031d-406d-8ef0-3a94c31561ca"
   },
   "outputs": [
    {
     "name": "stdout",
     "output_type": "stream",
     "text": [
      "Epoch 1/5\n",
      "313/313 [==============================] - 51s 149ms/step - loss: 0.4527 - accuracy: 0.7843 - val_loss: 0.4245 - val_accuracy: 0.8416\n",
      "Epoch 2/5\n",
      "313/313 [==============================] - 23s 72ms/step - loss: 0.2777 - accuracy: 0.8904 - val_loss: 0.3866 - val_accuracy: 0.8568\n",
      "Epoch 3/5\n",
      "313/313 [==============================] - 11s 34ms/step - loss: 0.2029 - accuracy: 0.9225 - val_loss: 0.3598 - val_accuracy: 0.8590\n",
      "Epoch 4/5\n",
      "313/313 [==============================] - 8s 26ms/step - loss: 0.1379 - accuracy: 0.9516 - val_loss: 0.3770 - val_accuracy: 0.8622\n",
      "Epoch 5/5\n",
      "313/313 [==============================] - 9s 27ms/step - loss: 0.0946 - accuracy: 0.9665 - val_loss: 0.5218 - val_accuracy: 0.8614\n"
     ]
    },
    {
     "data": {
      "text/plain": [
       "<keras.callbacks.History at 0x7e56b6725600>"
      ]
     },
     "execution_count": 4,
     "metadata": {},
     "output_type": "execute_result"
    }
   ],
   "source": [
    "model.compile(loss='binary_crossentropy', optimizer='adam', metrics=['accuracy'])\n",
    "\n",
    "model.fit(X_train, y_train, validation_split=0.2, epochs=5, batch_size=64)"
   ]
  },
  {
   "cell_type": "code",
   "execution_count": 5,
   "metadata": {
    "colab": {
     "base_uri": "https://localhost:8080/"
    },
    "executionInfo": {
     "elapsed": 4450,
     "status": "ok",
     "timestamp": 1692462817838,
     "user": {
      "displayName": "04_AD_Ajay T Shaju",
      "userId": "03382747360939787422"
     },
     "user_tz": -330
    },
    "id": "mRIsBPBJpRUZ",
    "outputId": "2f24082b-f704-44a7-8a1c-9077072caaf1"
   },
   "outputs": [
    {
     "name": "stdout",
     "output_type": "stream",
     "text": [
      "782/782 [==============================] - 4s 6ms/step - loss: 0.5403 - accuracy: 0.8524\n",
      "Test accuracy: 85.24%\n"
     ]
    }
   ],
   "source": [
    "loss, accuracy = model.evaluate(X_test, y_test)\n",
    "print(f\"Test accuracy: {round(accuracy * 100, 2)}%\")"
   ]
  },
  {
   "cell_type": "code",
   "execution_count": 6,
   "metadata": {
    "colab": {
     "base_uri": "https://localhost:8080/",
     "height": 54
    },
    "executionInfo": {
     "elapsed": 719,
     "status": "ok",
     "timestamp": 1692462818545,
     "user": {
      "displayName": "04_AD_Ajay T Shaju",
      "userId": "03382747360939787422"
     },
     "user_tz": -330
    },
    "id": "cJsmYU_FlZwK",
    "outputId": "39d833be-6159-436a-ed23-3c0fa7dbdac2"
   },
   "outputs": [
    {
     "name": "stdout",
     "output_type": "stream",
     "text": [
      "1/1 [==============================] - 0s 367ms/step\n"
     ]
    },
    {
     "data": {
      "application/vnd.google.colaboratory.intrinsic+json": {
       "type": "string"
      },
      "text/plain": [
       "'Negative Review'"
      ]
     },
     "execution_count": 6,
     "metadata": {},
     "output_type": "execute_result"
    }
   ],
   "source": [
    "# Reshape the sequence to match the batch size expected by the model\n",
    "test_seq = np.reshape(X_test[7], (1, -1))\n",
    "\n",
    "pred = model.predict(test_seq)[0]\n",
    "'Positive Review' if int(pred[0]) == 1 else \"Negative Review\""
   ]
  },
  {
   "cell_type": "code",
   "execution_count": 7,
   "metadata": {
    "colab": {
     "base_uri": "https://localhost:8080/"
    },
    "executionInfo": {
     "elapsed": 40,
     "status": "ok",
     "timestamp": 1692462818547,
     "user": {
      "displayName": "04_AD_Ajay T Shaju",
      "userId": "03382747360939787422"
     },
     "user_tz": -330
    },
    "id": "u06T-OampRKv",
    "outputId": "5dc21a95-59ca-4551-d313-dc2d5e964762"
   },
   "outputs": [
    {
     "data": {
      "text/plain": [
       "0"
      ]
     },
     "execution_count": 7,
     "metadata": {},
     "output_type": "execute_result"
    }
   ],
   "source": [
    "# Checking the correctness of prediction\n",
    "y_test[7] # 0 means Negative Review ; 1 means Positive Review"
   ]
  }
 ],
 "metadata": {
  "accelerator": "GPU",
  "colab": {
   "authorship_tag": "ABX9TyNcFqnOcgJ1mBMATG+oYNXX",
   "gpuType": "T4",
   "provenance": []
  },
  "kernelspec": {
   "display_name": "Python 3 (ipykernel)",
   "language": "python",
   "name": "python3"
  },
  "language_info": {
   "name": "python"
  }
 },
 "nbformat": 4,
 "nbformat_minor": 1
}
