{
  "nbformat": 4,
  "nbformat_minor": 0,
  "metadata": {
    "colab": {
      "provenance": [],
      "gpuType": "T4"
    },
    "kernelspec": {
      "name": "python3",
      "display_name": "Python 3"
    },
    "language_info": {
      "name": "python"
    },
    "accelerator": "GPU"
  },
  "cells": [
    {
      "cell_type": "markdown",
      "source": [
        "Implement a Recurrent Neural Network (RNN) for review classification on the IMDB dataset. Design and train an RNN model to classify movie reviews as positive or negative based on their sentiment."
      ],
      "metadata": {
        "id": "IDCVr-zKpHVw"
      }
    },
    {
      "cell_type": "code",
      "execution_count": null,
      "metadata": {
        "id": "zC9HqiREpFLc"
      },
      "outputs": [],
      "source": [
        "import numpy as np\n",
        "import tensorflow as tf\n",
        "from tensorflow.keras.datasets import imdb\n",
        "from tensorflow.keras.preprocessing.sequence import pad_sequences\n",
        "from tensorflow.keras.models import Sequential\n",
        "from tensorflow.keras.layers import Embedding, LSTM, Dense"
      ]
    },
    {
      "cell_type": "code",
      "source": [
        "(X_train, y_train), (X_test, y_test) = imdb.load_data(num_words=10000)\n",
        "X_train = pad_sequences(X_train, maxlen=200)\n",
        "X_test = pad_sequences(X_test, maxlen=200)"
      ],
      "metadata": {
        "id": "C5FkSDEbpR5b"
      },
      "execution_count": null,
      "outputs": []
    },
    {
      "cell_type": "code",
      "source": [
        "model = Sequential([\n",
        "    Embedding(input_dim=10000, output_dim=128, input_length=200),\n",
        "    LSTM(128),\n",
        "    Dense(1, activation='sigmoid')\n",
        "    ])"
      ],
      "metadata": {
        "id": "-J01GQH7pR3J"
      },
      "execution_count": null,
      "outputs": []
    },
    {
      "cell_type": "code",
      "source": [
        "model.compile(loss='binary_crossentropy', optimizer='adam', metrics=['accuracy'])\n",
        "\n",
        "model.fit(X_train, y_train, validation_split=0.2, epochs=5, batch_size=64)"
      ],
      "metadata": {
        "id": "vajb659YpRWo",
        "colab": {
          "base_uri": "https://localhost:8080/"
        },
        "outputId": "71dabbf8-c284-440d-afd0-9fe79be9cf99"
      },
      "execution_count": null,
      "outputs": [
        {
          "output_type": "stream",
          "name": "stdout",
          "text": [
            "Epoch 1/5\n",
            "313/313 [==============================] - 28s 84ms/step - loss: 0.4436 - accuracy: 0.7891 - val_loss: 0.3376 - val_accuracy: 0.8616\n",
            "Epoch 2/5\n",
            "313/313 [==============================] - 12s 37ms/step - loss: 0.2558 - accuracy: 0.8996 - val_loss: 0.3368 - val_accuracy: 0.8506\n",
            "Epoch 3/5\n",
            "313/313 [==============================] - 8s 27ms/step - loss: 0.1761 - accuracy: 0.9348 - val_loss: 0.3694 - val_accuracy: 0.8666\n",
            "Epoch 4/5\n",
            "313/313 [==============================] - 6s 19ms/step - loss: 0.1300 - accuracy: 0.9545 - val_loss: 0.4031 - val_accuracy: 0.8434\n",
            "Epoch 5/5\n",
            "313/313 [==============================] - 6s 20ms/step - loss: 0.0934 - accuracy: 0.9685 - val_loss: 0.5454 - val_accuracy: 0.8542\n"
          ]
        },
        {
          "output_type": "execute_result",
          "data": {
            "text/plain": [
              "<keras.src.callbacks.History at 0x78db60b69390>"
            ]
          },
          "metadata": {},
          "execution_count": 15
        }
      ]
    },
    {
      "cell_type": "code",
      "source": [
        "loss, accuracy = model.evaluate(X_test, y_test)\n",
        "print(f\"Test accuracy: {round(accuracy * 100, 2)}%\")"
      ],
      "metadata": {
        "id": "mRIsBPBJpRUZ",
        "colab": {
          "base_uri": "https://localhost:8080/"
        },
        "outputId": "ce9f1b17-1194-4db3-a31c-2043a2f8536f"
      },
      "execution_count": null,
      "outputs": [
        {
          "output_type": "stream",
          "name": "stdout",
          "text": [
            "782/782 [==============================] - 4s 5ms/step - loss: 0.5578 - accuracy: 0.8517\n",
            "Test accuracy: 85.17%\n"
          ]
        }
      ]
    },
    {
      "cell_type": "code",
      "source": [
        "# Reshape the sequence to match the batch size expected by the model\n",
        "test_seq = np.reshape(X_test[7], (1, -1))\n",
        "\n",
        "pred = model.predict(test_seq)[0]\n",
        "'Positive Review' if int(pred[0]) == 1 else \"Negative Review\""
      ],
      "metadata": {
        "colab": {
          "base_uri": "https://localhost:8080/",
          "height": 54
        },
        "id": "cJsmYU_FlZwK",
        "outputId": "0a2461ba-17a6-4f9d-c31e-eb026b8c4f4a"
      },
      "execution_count": null,
      "outputs": [
        {
          "output_type": "stream",
          "name": "stdout",
          "text": [
            "1/1 [==============================] - 0s 357ms/step\n"
          ]
        },
        {
          "output_type": "execute_result",
          "data": {
            "text/plain": [
              "'Negative Review'"
            ],
            "application/vnd.google.colaboratory.intrinsic+json": {
              "type": "string"
            }
          },
          "metadata": {},
          "execution_count": 17
        }
      ]
    },
    {
      "cell_type": "code",
      "source": [
        "# Checking the correctness of prediction\n",
        "y_test[7] # 0 means Negative Review ; 1 means Positive Review"
      ],
      "metadata": {
        "id": "u06T-OampRKv",
        "colab": {
          "base_uri": "https://localhost:8080/"
        },
        "outputId": "dd577cf5-9bc2-4600-d44f-25cdb2cc61db"
      },
      "execution_count": null,
      "outputs": [
        {
          "output_type": "execute_result",
          "data": {
            "text/plain": [
              "0"
            ]
          },
          "metadata": {},
          "execution_count": 18
        }
      ]
    },
    {
      "cell_type": "code",
      "source": [],
      "metadata": {
        "id": "ClLKC8RhFsLp"
      },
      "execution_count": null,
      "outputs": []
    }
  ]
}